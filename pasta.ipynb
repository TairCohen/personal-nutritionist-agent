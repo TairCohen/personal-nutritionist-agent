{
  "cells": [
    {
      "cell_type": "markdown",
      "id": "660ce795-9307-4c2c-98a1-beabcb36c740",
      "metadata": {
        "id": "660ce795-9307-4c2c-98a1-beabcb36c740"
      },
      "source": [
        "[![Open in Colab](https://colab.research.google.com/assets/colab-badge.svg)](https://colab.research.google.com/github/langchain-ai/langchain-academy/blob/main/module-0/basics.ipynb) [![Open in LangChain Academy](https://cdn.prod.website-files.com/65b8cd72835ceeacd4449a53/66e9eba12c7b7688aa3dbb5e_LCA-badge-green.svg)](https://academy.langchain.com/courses/take/intro-to-langgraph/lessons/56295530-getting-set-up-video-guide)"
      ]
    },
    {
      "cell_type": "code",
      "source": [
        "import openai\n",
        "from PIL import Image\n",
        "import base64\n",
        "from pathlib import Path"
      ],
      "metadata": {
        "id": "9HcvDw6xqiLK"
      },
      "id": "9HcvDw6xqiLK",
      "execution_count": 1,
      "outputs": []
    },
    {
      "cell_type": "code",
      "source": [
        "pip install openai==0.28"
      ],
      "metadata": {
        "id": "MrVUfRs9t8IL",
        "outputId": "1cf58a27-77ab-4888-8da0-1a685029751b",
        "colab": {
          "base_uri": "https://localhost:8080/"
        }
      },
      "id": "MrVUfRs9t8IL",
      "execution_count": 2,
      "outputs": [
        {
          "output_type": "stream",
          "name": "stdout",
          "text": [
            "Requirement already satisfied: openai==0.28 in /usr/local/lib/python3.11/dist-packages (0.28.0)\n",
            "Requirement already satisfied: requests>=2.20 in /usr/local/lib/python3.11/dist-packages (from openai==0.28) (2.32.3)\n",
            "Requirement already satisfied: tqdm in /usr/local/lib/python3.11/dist-packages (from openai==0.28) (4.67.1)\n",
            "Requirement already satisfied: aiohttp in /usr/local/lib/python3.11/dist-packages (from openai==0.28) (3.11.14)\n",
            "Requirement already satisfied: charset-normalizer<4,>=2 in /usr/local/lib/python3.11/dist-packages (from requests>=2.20->openai==0.28) (3.4.1)\n",
            "Requirement already satisfied: idna<4,>=2.5 in /usr/local/lib/python3.11/dist-packages (from requests>=2.20->openai==0.28) (3.10)\n",
            "Requirement already satisfied: urllib3<3,>=1.21.1 in /usr/local/lib/python3.11/dist-packages (from requests>=2.20->openai==0.28) (2.3.0)\n",
            "Requirement already satisfied: certifi>=2017.4.17 in /usr/local/lib/python3.11/dist-packages (from requests>=2.20->openai==0.28) (2025.1.31)\n",
            "Requirement already satisfied: aiohappyeyeballs>=2.3.0 in /usr/local/lib/python3.11/dist-packages (from aiohttp->openai==0.28) (2.6.1)\n",
            "Requirement already satisfied: aiosignal>=1.1.2 in /usr/local/lib/python3.11/dist-packages (from aiohttp->openai==0.28) (1.3.2)\n",
            "Requirement already satisfied: attrs>=17.3.0 in /usr/local/lib/python3.11/dist-packages (from aiohttp->openai==0.28) (25.3.0)\n",
            "Requirement already satisfied: frozenlist>=1.1.1 in /usr/local/lib/python3.11/dist-packages (from aiohttp->openai==0.28) (1.5.0)\n",
            "Requirement already satisfied: multidict<7.0,>=4.5 in /usr/local/lib/python3.11/dist-packages (from aiohttp->openai==0.28) (6.2.0)\n",
            "Requirement already satisfied: propcache>=0.2.0 in /usr/local/lib/python3.11/dist-packages (from aiohttp->openai==0.28) (0.3.0)\n",
            "Requirement already satisfied: yarl<2.0,>=1.17.0 in /usr/local/lib/python3.11/dist-packages (from aiohttp->openai==0.28) (1.18.3)\n"
          ]
        }
      ]
    },
    {
      "cell_type": "code",
      "source": [
        "openai.api_key = OPENAI_API_KEY\n",
        "\n",
        "response = openai.ChatCompletion.create(\n",
        "    model=\"gpt-4\",\n",
        "    messages=[\n",
        "        {\"role\": \"system\", \"content\": \"You are a helpful assistant.\"},\n",
        "        {\"role\": \"user\", \"content\": \"Hello, how are you?\"}\n",
        "    ]\n",
        ")\n",
        "\n",
        "print(response[\"choices\"][0][\"message\"][\"content\"])"
      ],
      "metadata": {
        "id": "5XTYI7Bgsoot",
        "outputId": "cb3e7be5-8aa9-4015-b23b-3fed25c3e786",
        "colab": {
          "base_uri": "https://localhost:8080/",
          "height": 211
        }
      },
      "id": "5XTYI7Bgsoot",
      "execution_count": 6,
      "outputs": [
        {
          "output_type": "error",
          "ename": "NameError",
          "evalue": "name 'OPENAI_API_KEY' is not defined",
          "traceback": [
            "\u001b[0;31m---------------------------------------------------------------------------\u001b[0m",
            "\u001b[0;31mNameError\u001b[0m                                 Traceback (most recent call last)",
            "\u001b[0;32m<ipython-input-6-9854480ff33f>\u001b[0m in \u001b[0;36m<cell line: 0>\u001b[0;34m()\u001b[0m\n\u001b[0;32m----> 1\u001b[0;31m \u001b[0mopenai\u001b[0m\u001b[0;34m.\u001b[0m\u001b[0mapi_key\u001b[0m \u001b[0;34m=\u001b[0m \u001b[0mOPENAI_API_KEY\u001b[0m\u001b[0;34m\u001b[0m\u001b[0;34m\u001b[0m\u001b[0m\n\u001b[0m\u001b[1;32m      2\u001b[0m \u001b[0;34m\u001b[0m\u001b[0m\n\u001b[1;32m      3\u001b[0m response = openai.ChatCompletion.create(\n\u001b[1;32m      4\u001b[0m     \u001b[0mmodel\u001b[0m\u001b[0;34m=\u001b[0m\u001b[0;34m\"gpt-4\"\u001b[0m\u001b[0;34m,\u001b[0m\u001b[0;34m\u001b[0m\u001b[0;34m\u001b[0m\u001b[0m\n\u001b[1;32m      5\u001b[0m     messages=[\n",
            "\u001b[0;31mNameError\u001b[0m: name 'OPENAI_API_KEY' is not defined"
          ]
        }
      ]
    },
    {
      "cell_type": "code",
      "source": [
        "def encode_image(image_path):\n",
        "    \"\"\"Encodes an image to Base64 for API submission\"\"\"\n",
        "    with open(image_path, \"rb\") as image_file:\n",
        "        return base64.b64encode(image_file.read()).decode(\"utf-8\")"
      ],
      "metadata": {
        "id": "8CNAK9OHqm3a"
      },
      "id": "8CNAK9OHqm3a",
      "execution_count": 4,
      "outputs": []
    },
    {
      "cell_type": "code",
      "source": [
        "def analyze_food(image_path):\n",
        "    \"\"\"Analyzes a food image using OpenAI and returns a list of food items with estimated weight\"\"\"\n",
        "    image_data = encode_image(image_path)\n",
        "\n",
        "    response = openai.ChatCompletion.create(\n",
        "        model=\"gpt-4-turbo\",  # Ensure you have access to this model\n",
        "        messages=[\n",
        "            {\"role\": \"system\", \"content\": \"You are a nutrition expert who knows how to estimate the caloric values ​​of various dishes. You analyze a picture of a dish and estimate the weight in grams for each of the ingredients that make up the dish.\"},\n",
        "            {\"role\": \"user\", \"content\": [\n",
        "                {\"type\": \"text\", \"text\": \"Give only a list of the ingredients that make up the dish in the picture and for each ingredient, give its weight in grams for the dish in the picture And estimate the amount of calories for each ingredient in the dish .\"},\n",
        "                {\"type\": \"image_url\", \"image_url\": {\"url\": f\"data:image/jpeg;base64,{image_data}\"}} # Changed this line to be a dictionary with a \"url\" key\n",
        "            ]}\n",
        "        ],\n",
        "        max_tokens=500\n",
        "    )\n",
        "\n",
        "    return response[\"choices\"][0][\"message\"][\"content\"]"
      ],
      "metadata": {
        "id": "wwl1jEGnqtCv"
      },
      "id": "wwl1jEGnqtCv",
      "execution_count": 5,
      "outputs": []
    },
    {
      "cell_type": "code",
      "source": [
        "image_path = Path(\"/content/3.jpg\")\n",
        "result = analyze_food(image_path)\n",
        "print(result)"
      ],
      "metadata": {
        "colab": {
          "base_uri": "https://localhost:8080/"
        },
        "id": "_aeM6-drqzwf",
        "outputId": "24b39b68-7223-4f9b-83a6-e3a250ab3353"
      },
      "id": "_aeM6-drqzwf",
      "execution_count": null,
      "outputs": [
        {
          "output_type": "stream",
          "name": "stdout",
          "text": [
            "This image shows a dish commonly known as a falafel sandwich. Here’s the estimated breakdown of each ingredient used in the dish, along with their estimated weights and corresponding caloric values:\n",
            "\n",
            "1. **Pita Bread**: \n",
            "   - Weight: 60 grams\n",
            "   - Calories: Approximately 165 kcal\n",
            "\n",
            "2. **Falafel Balls** (made from chickpeas, herbs, spices):\n",
            "   - Weight: 100 grams (assuming about 4 falafel balls at 25 grams each)\n",
            "   - Calories: Approximately 330 kcal (this can vary depending on the cooking method, if deep-fried, the caloric value could be higher)\n",
            "\n",
            "3. **Tomatoes** (diced):\n",
            "   - Weight: 40 grams \n",
            "   - Calories: Approximately 7 kcal\n",
            "\n",
            "4. **Onions** (chopped):\n",
            "   - Weight: 20 grams \n",
            "   - Calories: Approximately 8 kcal\n",
            "\n",
            "5. **Parsley** (chopped):\n",
            "   - Weight: 20 grams \n",
            "   - Calories: Approximately 5 kcal\n",
            "\n",
            "6. **Tahini Sauce** (a paste made from sesame seeds):\n",
            "   - Weight: 15 grams \n",
            "   - Calories: Approximately 89 kcal\n",
            "\n",
            "The total estimated weight of the ingredients in this dish is around 255 grams. The total caloric value is approximately 604 kcal, considering all the ingredients and the method of preparation, especially if the falafels are fried. Bear in mind that these values can vary based on exact ingredient ratios and preparation methods.\n"
          ]
        }
      ]
    }
  ],
  "metadata": {
    "kernelspec": {
      "display_name": "Python 3",
      "name": "python3"
    },
    "language_info": {
      "codemirror_mode": {
        "name": "ipython",
        "version": 3
      },
      "file_extension": ".py",
      "mimetype": "text/x-python",
      "name": "python",
      "nbconvert_exporter": "python",
      "pygments_lexer": "ipython3",
      "version": "3.12.1"
    },
    "colab": {
      "provenance": []
    }
  },
  "nbformat": 4,
  "nbformat_minor": 5
}