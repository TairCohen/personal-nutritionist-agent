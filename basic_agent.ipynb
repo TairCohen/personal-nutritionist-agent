{
  "cells": [
    {
      "cell_type": "markdown",
      "metadata": {
        "colab_type": "text",
        "id": "view-in-github"
      },
      "source": [
        "<a href=\"https://colab.research.google.com/github/TairCohen/personal-nutritionist-agent/blob/tair/basic_agent.ipynb\" target=\"_parent\"><img src=\"https://colab.research.google.com/assets/colab-badge.svg\" alt=\"Open In Colab\"/></a>"
      ]
    },
    {
      "cell_type": "code",
      "execution_count": 3,
      "metadata": {},
      "outputs": [],
      "source": [
        "try:\n",
        "  import google.colab\n",
        "  IN_COLAB = True\n",
        "except:\n",
        "  IN_COLAB = False"
      ]
    },
    {
      "cell_type": "code",
      "execution_count": 5,
      "metadata": {
        "id": "WUZYjIMTTluB"
      },
      "outputs": [],
      "source": [
        "if IN_COLAB:\n",
        "    !pip install -q langgraph\n",
        "    !pip install -q --upgrade langchain-text-splitters langchain-community langgraph\n",
        "    !pip install -q langchain-openai\n",
        "    !pip install faiss-cpu>=1.7.4\n",
        "    !pip install -q langchain"
      ]
    },
    {
      "cell_type": "code",
      "execution_count": 128,
      "metadata": {},
      "outputs": [
        {
          "data": {
            "text/plain": [
              "<module 'graph_nodes' from '/Users/tairlax/Desktop/30_hours/personal-nutritionist-agent/graph_nodes.py'>"
            ]
          },
          "execution_count": 128,
          "metadata": {},
          "output_type": "execute_result"
        }
      ],
      "source": [
        "# in jupyter, run this cell to reload the graph_nodes module\n",
        "# if you make changes to it\n",
        "# and want to test them without restarting the kernel\n",
        "import importlib\n",
        "import graph_nodes\n",
        "importlib.reload(graph_nodes)"
      ]
    },
    {
      "cell_type": "code",
      "execution_count": 142,
      "metadata": {
        "id": "A0tz73vEy39N"
      },
      "outputs": [],
      "source": [
        "from IPython.display import Image, display\n",
        "from langgraph.checkpoint.memory import MemorySaver\n",
        "from langgraph.graph import StateGraph, START, END\n",
        "from graph_nodes import State, assistant, upload_image, display_image, identify_food, get_calories\n",
        "\n",
        "# Define a new graph\n",
        "workflow = StateGraph(State)\n",
        "workflow.add_node(\"assistant\", assistant)\n",
        "workflow.add_node(\"upload_image\", upload_image)\n",
        "workflow.add_node(\"display_image\", display_image)\n",
        "workflow.add_node(\"identify_food\", identify_food)\n",
        "workflow.add_node(\"get_calories\", get_calories)\n",
        "\n",
        "\n",
        "# Set the entrypoint as conversation\n",
        "workflow.add_edge(START, \"assistant\")\n",
        "workflow.add_edge(\"assistant\", \"upload_image\")\n",
        "workflow.add_edge(\"upload_image\", \"display_image\")\n",
        "workflow.add_edge(\"display_image\", \"identify_food\")\n",
        "workflow.add_edge(\"identify_food\", \"get_calories\")\n",
        "workflow.add_edge(\"get_calories\", END)\n",
        "\n",
        "\n",
        "# Compile\n",
        "memory = MemorySaver()\n",
        "graph = workflow.compile(interrupt_before=[\"display_image\"], checkpointer=memory)"
      ]
    },
    {
      "cell_type": "code",
      "execution_count": 138,
      "metadata": {},
      "outputs": [],
      "source": [
        "# display(Image(graph.get_graph().draw_mermaid_png()))"
      ]
    },
    {
      "cell_type": "code",
      "execution_count": 143,
      "metadata": {
        "colab": {
          "base_uri": "https://localhost:8080/",
          "height": 1000
        },
        "id": "4g4AdPTM8XPK",
        "outputId": "502b7083-2d48-4322-858e-bf2a16b7d3fc"
      },
      "outputs": [
        {
          "data": {
            "application/vnd.jupyter.widget-view+json": {
              "model_id": "b63e9de1d58242d6bee16517ebfc891e",
              "version_major": 2,
              "version_minor": 0
            },
            "text/plain": [
              "VBox(children=(FileUpload(value=(), accept='image/*', description='Upload'), Button(description='Process Image…"
            ]
          },
          "metadata": {},
          "output_type": "display_data"
        }
      ],
      "source": [
        "config = {\"configurable\": {\"thread_id\": \"1\"}}\n",
        "# input_message = HumanMessage(content=\"hi! I'm Lance\")\n",
        "# output = graph.invoke({\"messages\": [input_message]}, config)\n",
        "output = graph.invoke({}, config)"
      ]
    }
  ],
  "metadata": {
    "colab": {
      "include_colab_link": true,
      "provenance": []
    },
    "kernelspec": {
      "display_name": "agent-env",
      "language": "python",
      "name": "python3"
    },
    "language_info": {
      "codemirror_mode": {
        "name": "ipython",
        "version": 3
      },
      "file_extension": ".py",
      "mimetype": "text/x-python",
      "name": "python",
      "nbconvert_exporter": "python",
      "pygments_lexer": "ipython3",
      "version": "3.13.2"
    }
  },
  "nbformat": 4,
  "nbformat_minor": 0
}
